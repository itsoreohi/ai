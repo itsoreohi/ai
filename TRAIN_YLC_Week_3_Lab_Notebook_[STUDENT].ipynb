{
  "cells": [
    {
      "cell_type": "markdown",
      "metadata": {
        "id": "view-in-github",
        "colab_type": "text"
      },
      "source": [
        "<a href=\"https://colab.research.google.com/github/itsoreohi/ai/blob/main/TRAIN_YLC_Week_3_Lab_Notebook_%5BSTUDENT%5D.ipynb\" target=\"_parent\"><img src=\"https://colab.research.google.com/assets/colab-badge.svg\" alt=\"Open In Colab\"/></a>"
      ]
    },
    {
      "cell_type": "markdown",
      "source": [
        "# **Lab 3: Using Objects and Good Programming Practices**\n",
        "---\n",
        "\n",
        "### **Description**\n",
        "In today's lab, you will learn how to work with objects, methods, and attributes in Python. You will also learn how to interpret and correct coding errors, and how to search for and navigate documentation.\n",
        "\n",
        "<br>\n",
        "\n",
        "### **Lab Structure**\n",
        "**Part 2**: [Objects, Methods, and Attributes](#p2)\n",
        "\n",
        "**Part 3**: [Debugging](#p3)\n",
        "\n",
        "**Part 4**: [Additional Practice [OPTIONAL]](#p4)\n",
        ">\n",
        "> **Part 4.1**: [The Fundamentals](#p4.1)\n",
        ">\n",
        "> **Part 4.2**: [Coding Challenges](#p4.2)\n",
        "\n",
        "**Part 5**: [The `print` Function [OPTIONAL]](#p5)\n",
        "\n",
        "<br>\n",
        "\n",
        "\n",
        "### **Learning Objectives**\n",
        "By the end of this lab, we will:\n",
        "* Understand how to interact with objects using methods and attributes.\n",
        "* Improve your debugging skills by correcting common coding errors.\n",
        "* Understand how to search for documentation in various libraries.\n",
        "\n",
        "<br>\n",
        "\n",
        "###**Resources**\n",
        "* [Python Basics Cheat Sheet](https://docs.google.com/document/d/1lJCv2rPuSFVip643ZPOxNdllUUAMBhtq_NR3IE2w7V4/edit?usp=sharing)\n",
        "\n",
        "\n",
        "<br>\n",
        "\n",
        "\n",
        "**Before starting, run the code below to import all necessary functions and libraries.**\n"
      ],
      "metadata": {
        "id": "mbZXQ3rA3NwL"
      },
      "id": "mbZXQ3rA3NwL"
    },
    {
      "cell_type": "code",
      "source": [
        "# @title\n",
        "\n",
        "import warnings\n",
        "import sympy\n",
        "import numpy\n",
        "import matplotlib\n",
        "import time\n",
        "import math\n",
        "from matplotlib import pyplot\n",
        "\n",
        "warnings.filterwarnings(\"ignore\")\n",
        "\n",
        "class baby():\n",
        "  def __init__(self,age=0, mood=\"crying\", hunger=\"hungry\"):\n",
        "    self.age = age\n",
        "    self.mood = mood\n",
        "    self.hunger = hunger\n",
        "  def feed(self):\n",
        "    self.hunger = \"full\"\n",
        "  def play(self):\n",
        "    self.mood = \"happy\"\n",
        "\n",
        "class second_lab():\n",
        "  def __init__(self,TA=\"NO TA SET\"):\n",
        "    self.topic = \"Introduction to Objects and Debugging\"\n",
        "    self.attendance_code = 1234\n",
        "    self.attendees = []\n",
        "    self.TA = TA\n",
        "  def check_in(self,name):\n",
        "    self.attendees.append(name)\n",
        "  def lab_summary(self):\n",
        "    print(\"Today in lab, we had an \" + self.topic + \" with our TA, \" + self.TA +\". We had some great people in attendance, such as:\" + \", \".join(self.attendees)+\". The attendance code is \" + str(self.attendance_code)+\".\")\n",
        "\n",
        "def calculate_area(length, width):\n",
        "  area = length * width\n",
        "  return area\n",
        "\n",
        "class plant():\n",
        "  def __init__(self):\n",
        "    self.planted = 0\n",
        "    self.day_of_last_growth = 0\n",
        "    self.day = 0\n",
        "    self.water = 0\n",
        "    self.light = 0\n",
        "    self.health = 10\n",
        "    self.stage = 0\n",
        "    self.perfect_light = numpy.random.choice([1,2,3,4,5,6,7,8,9,10])\n",
        "    self.perfect_water = numpy.random.choice([1,2,3,4,5,6,7,8,9,10])\n",
        "  def water_plant(self,amount):\n",
        "    if amount > 0:\n",
        "      print(\"You watered your plant.\")\n",
        "      self.water += round(amount)\n",
        "    elif amount < 0:\n",
        "      raise ValueError(\"You can't remove water from your plant! You will have to wait a bit for it to dry out.\")\n",
        "    else:\n",
        "      print(\"You decide to not water your plant.\")\n",
        "  def set_light(self,level):\n",
        "    if level <0:\n",
        "      raise ValueError(\"You can't set the light level to negative values.\")\n",
        "    elif level > 10:\n",
        "      raise ValueError(\"Your light is not that strong\")\n",
        "    else:\n",
        "      self.light = round(level)\n",
        "      print(\"You set the light to level \" + str(self.light))\n",
        "\n",
        "  def check_health(self):\n",
        "    print(\"Your plant's health is a \" + str(self.health)+ \"/\" + str(10+(5*self.stage))+\".\")\n",
        "    print(\"If you had to rate the wetness of the soil, it would be a \" + str(self.water)+ \"/10.\")\n",
        "    print(\"Your light is turned up to \" + str(self.light)+ \".\")\n",
        "    if self.stage == 10:\n",
        "      print(\"Your plant is full grown.\")\n",
        "  def wait(self,num_days):\n",
        "    for i in range(num_days):\n",
        "      self.day += 1\n",
        "      print('Day ' + str(self.day))\n",
        "      if self.perfect_light > self.light:\n",
        "        print(\"Your plant needs more light\")\n",
        "        self.health += -1*abs(self.perfect_light- self.light)/10\n",
        "      elif self.perfect_light < self.light:\n",
        "        print(\"Your plant needs less light\")\n",
        "        self.health += -1*abs(self.perfect_light- self.light)/10\n",
        "      else:\n",
        "        print(\"Your plant looks happy with the light it has.\")\n",
        "      if self.perfect_water > self.water:\n",
        "        print(\"Your plant needs more water\")\n",
        "        self.health += -1*abs(self.perfect_water- self.water)/10\n",
        "      elif self.perfect_water < self.water:\n",
        "        print(\"Your plant needs less water\")\n",
        "        self.health += -1*abs(self.perfect_water- self.water)/10\n",
        "      else:\n",
        "        print(\"Your plant looks happy with the water it had.\")\n",
        "      if self.perfect_light == self.light and self.perfect_water == self.water:\n",
        "        self.health = (self.health + 10+(5*self.stage))/2\n",
        "        if self.day- self.day_of_last_growth >= 5 and self.stage < 10:\n",
        "          print(\"Your plant grew a bit! Its preferances may have changed.\")\n",
        "          self.stage += 1\n",
        "          self.health += 5\n",
        "          self.day_of_last_growth = self.day\n",
        "          self.perfect_light = numpy.random.choice([1,2,3,4,5,6,7,8,9,10])\n",
        "          self.perfect_water = numpy.random.choice([1,2,3,4,5,6,7,8,9,10])\n",
        "          if self.stage == 10:\n",
        "            print(\"Congrats! Your plant is full grown.\")\n",
        "      self.water += -1*self.light\n",
        "      if self.water < 0:\n",
        "        self.water = 0\n",
        "      if self.health <= 0:\n",
        "        print(\"Your plant died! You decide to plant a new seed. Treat this one better!\")\n",
        "        self.planted = 0\n",
        "        self.day_of_last_growth = 0\n",
        "        self.day = 0\n",
        "        self.water = 0\n",
        "        self.light = 0\n",
        "        self.health = 10\n",
        "        self.stage = 0\n",
        "        self.perfect_light = numpy.random.choice([1,2,3,4,5,6,7,8,9,10])\n",
        "        self.perfect_water = numpy.random.choice([1,2,3,4,5,6,7,8,9,10])\n",
        "\n",
        "def dynamic_find_roots(a,b,c):\n",
        "  if b**2-4*a*c == 0:\n",
        "    return -b/(2*a)\n",
        "  elif b**2 - 4*a*c <0:\n",
        "    return (-b+1j*(4*a*c-b**2)**0.5)/(2*a),(-b-1j*(4*a*c-b**2)**0.5)/(2*a)\n",
        "  elif b**2 - 4*a*c >0:\n",
        "    return (-b+(b**2-4*a*c)**0.5)/(2*a),(-b-(b**2-4*a*c)**0.5)/(2*a)\n",
        "print(\"Libraries imported successfully!\")"
      ],
      "metadata": {
        "id": "YAvvLhRIoqYp",
        "colab": {
          "base_uri": "https://localhost:8080/"
        },
        "outputId": "7ff83a4d-17e8-4056-db0f-2d5e3037b4c7",
        "cellView": "form"
      },
      "execution_count": null,
      "outputs": [
        {
          "output_type": "stream",
          "name": "stdout",
          "text": [
            "\u001b[2K     \u001b[90m━━━━━━━━━━━━━━━━━━━━━━━━━━━━━━━━━━━━━━━━\u001b[0m \u001b[32m6.1/6.1 MB\u001b[0m \u001b[31m14.0 MB/s\u001b[0m eta \u001b[36m0:00:00\u001b[0m\n",
            "\u001b[2K     \u001b[90m━━━━━━━━━━━━━━━━━━━━━━━━━━━━━━━━━━━━━━━━\u001b[0m \u001b[32m2.0/2.0 MB\u001b[0m \u001b[31m26.2 MB/s\u001b[0m eta \u001b[36m0:00:00\u001b[0m\n",
            "\u001b[2K     \u001b[90m━━━━━━━━━━━━━━━━━━━━━━━━━━━━━━━━━━━━━━━━\u001b[0m \u001b[32m49.6/49.6 kB\u001b[0m \u001b[31m5.3 MB/s\u001b[0m eta \u001b[36m0:00:00\u001b[0m\n",
            "\u001b[2K     \u001b[90m━━━━━━━━━━━━━━━━━━━━━━━━━━━━━━━━━━━━━━\u001b[0m \u001b[32m115.3/115.3 kB\u001b[0m \u001b[31m12.8 MB/s\u001b[0m eta \u001b[36m0:00:00\u001b[0m\n",
            "\u001b[2K     \u001b[90m━━━━━━━━━━━━━━━━━━━━━━━━━━━━━━━━━━━━━━━━\u001b[0m \u001b[32m49.6/49.6 kB\u001b[0m \u001b[31m5.5 MB/s\u001b[0m eta \u001b[36m0:00:00\u001b[0m\n",
            "\u001b[2K     \u001b[90m━━━━━━━━━━━━━━━━━━━━━━━━━━━━━━━━━━━━━━━━\u001b[0m \u001b[32m37.5/37.5 MB\u001b[0m \u001b[31m38.4 MB/s\u001b[0m eta \u001b[36m0:00:00\u001b[0m\n",
            "\u001b[2K     \u001b[90m━━━━━━━━━━━━━━━━━━━━━━━━━━━━━━━━━━━━━━\u001b[0m \u001b[32m112.7/112.7 kB\u001b[0m \u001b[31m10.3 MB/s\u001b[0m eta \u001b[36m0:00:00\u001b[0m\n",
            "\u001b[?25hLibraries imported successfully!\n"
          ]
        }
      ],
      "id": "YAvvLhRIoqYp"
    },
    {
      "cell_type": "markdown",
      "source": [
        "<a name=\"p1\"></a>\n",
        "\n",
        "---\n",
        "## **Part 1: Review**\n",
        "---"
      ],
      "metadata": {
        "id": "88bM7zNgm__2"
      },
      "id": "88bM7zNgm__2"
    },
    {
      "cell_type": "markdown",
      "metadata": {
        "id": "8E_hjAwnzJIJ"
      },
      "source": [
        "#### **Problem #1.1**\n",
        "\n",
        "**Together**, let's label the following data types.\n",
        "\n",
        "<br>\n",
        "\n",
        "**NOTE**: You can change the text below by double clicking on the cell."
      ],
      "id": "8E_hjAwnzJIJ"
    },
    {
      "cell_type": "markdown",
      "metadata": {
        "id": "UgjKT51TYqvW"
      },
      "source": [
        "```\n",
        "2\n",
        "8.9\n",
        "\"Machine Learning is Cool!\"\n",
        "5.0\n",
        "[\"string\"]\n",
        "```"
      ],
      "id": "UgjKT51TYqvW"
    },
    {
      "cell_type": "markdown",
      "metadata": {
        "id": "vbVHhpiin48S"
      },
      "source": [
        "#### **Problem #1.2**\n",
        "\n",
        "**Together**, let's write code below to calculate 6 times 30 minus 15.5."
      ],
      "id": "vbVHhpiin48S"
    },
    {
      "cell_type": "code",
      "source": [
        "# COMPLETE THIS CODE"
      ],
      "metadata": {
        "id": "aArc_XhAn7Wj"
      },
      "execution_count": null,
      "outputs": [],
      "id": "aArc_XhAn7Wj"
    },
    {
      "cell_type": "markdown",
      "metadata": {
        "id": "huF5E-rfpsk6"
      },
      "source": [
        "#### **Problem #1.3**\n",
        "\n",
        "**Together**, let's write code below to create a variable called `num_models` that equals 10. Then output the value of the variable."
      ],
      "id": "huF5E-rfpsk6"
    },
    {
      "cell_type": "code",
      "source": [
        "# COMPLETE THIS CODE"
      ],
      "metadata": {
        "id": "IQeZmqMspsk7"
      },
      "execution_count": null,
      "outputs": [],
      "id": "IQeZmqMspsk7"
    },
    {
      "cell_type": "markdown",
      "metadata": {
        "id": "viydnMGPp9Vn"
      },
      "source": [
        "#### **Problem #1.4**\n",
        "\n",
        "**Independently**, write code below to create a variables called `model_size` that equals 12. Then output the value of the variable."
      ],
      "id": "viydnMGPp9Vn"
    },
    {
      "cell_type": "code",
      "source": [
        "# COMPLETE THIS CODE"
      ],
      "metadata": {
        "id": "RobdNtdJp9V0"
      },
      "execution_count": null,
      "outputs": [],
      "id": "RobdNtdJp9V0"
    },
    {
      "cell_type": "markdown",
      "metadata": {
        "id": "0hMTn7KLqMIw"
      },
      "source": [
        "#### **Problem #1.5**\n",
        "\n",
        "Write code below to create a variables called `total_size` that equals `num_models` times `model_size`. Then output the value of the variable."
      ],
      "id": "0hMTn7KLqMIw"
    },
    {
      "cell_type": "code",
      "source": [
        "# COMPLETE THIS CODE"
      ],
      "metadata": {
        "id": "yHVTW11RqMI-"
      },
      "execution_count": null,
      "outputs": [],
      "id": "yHVTW11RqMI-"
    },
    {
      "cell_type": "markdown",
      "source": [
        "<a name=\"p2\"></a>\n",
        "\n",
        "---\n",
        "## **Part 2: Objects, Methods, and Attributes**\n",
        "---\n",
        "Python and any libraries we install provides us with plenty of objects to work with. In this part, we will practice interacting with objects using methods and attributes."
      ],
      "metadata": {
        "id": "idga37M2FsMR"
      },
      "id": "idga37M2FsMR"
    },
    {
      "cell_type": "markdown",
      "source": [
        "### **Problem #2.1**\n",
        "\n",
        "**Together**, let's create a \"baby\" object and output its \"age\" attribute.\n"
      ],
      "metadata": {
        "id": "E90o2LJcwsMI"
      },
      "id": "E90o2LJcwsMI"
    },
    {
      "cell_type": "code",
      "source": [
        "jeremy = baby()\n",
        "# COMPLETE THIS CODE"
      ],
      "metadata": {
        "id": "ef77ha0_x9a_"
      },
      "execution_count": null,
      "outputs": [],
      "id": "ef77ha0_x9a_"
    },
    {
      "cell_type": "markdown",
      "source": [
        "### **Problem #2.2**\n",
        "\n",
        "**Together**, let's write code to set the baby's age to 2.\n"
      ],
      "metadata": {
        "id": "2UHcbxTY0R7t"
      },
      "id": "2UHcbxTY0R7t"
    },
    {
      "cell_type": "code",
      "source": [
        "# COMPLETE THIS CODE"
      ],
      "metadata": {
        "id": "cIs8URcj0R8K"
      },
      "execution_count": null,
      "outputs": [],
      "id": "cIs8URcj0R8K"
    },
    {
      "cell_type": "markdown",
      "source": [
        "### **Problem #2.3**\n",
        "\n",
        "**Together**, output the baby's `hunger` attribute, then use its `feed` method (this method does not require any arguments). Finally, print out the new `hunger` attribute.\n"
      ],
      "metadata": {
        "id": "1NLuZ2HS0ib4"
      },
      "id": "1NLuZ2HS0ib4"
    },
    {
      "cell_type": "code",
      "source": [
        "# COMPLETE THIS CODE"
      ],
      "metadata": {
        "id": "urA0ZLTi0icL"
      },
      "execution_count": null,
      "outputs": [],
      "id": "urA0ZLTi0icL"
    },
    {
      "cell_type": "code",
      "source": [
        "# COMPLETE THIS CODE"
      ],
      "metadata": {
        "id": "n7gbGtKkW9S_"
      },
      "id": "n7gbGtKkW9S_",
      "execution_count": null,
      "outputs": []
    },
    {
      "cell_type": "markdown",
      "source": [
        "---\n",
        "\n",
        "### **Now it's your turn! Try Problems #2.4 - 2.10 on your own.**\n",
        "\n",
        "---"
      ],
      "metadata": {
        "id": "B9w5PxHDvUmQ"
      },
      "id": "B9w5PxHDvUmQ"
    },
    {
      "cell_type": "markdown",
      "source": [
        "###**Problem #2.4**\n",
        "\n",
        "**Independently**, create a new `baby` object, and output the `mood` attribute. Then, use its `play` method and output the `mood` attribute once again."
      ],
      "metadata": {
        "id": "PpyG4J8jyB_u"
      },
      "id": "PpyG4J8jyB_u"
    },
    {
      "cell_type": "code",
      "source": [
        "# COMPLETE THIS CODE"
      ],
      "metadata": {
        "id": "za3WWQC6zl_y"
      },
      "id": "za3WWQC6zl_y",
      "execution_count": null,
      "outputs": []
    },
    {
      "cell_type": "markdown",
      "source": [
        "###**Problem #2.5**\n",
        "\n",
        "**Independently**,\n",
        "\n",
        "\n",
        "*   Create a new `baby` object. Output its age attribute.\n",
        "*   Next, use its `feed` method, use its `play` method, and set its age attribute to 1.\n",
        "* Then, output its `mood`, `hunger`, and new `age` attributes.\n",
        "\n",
        "\n",
        "\n"
      ],
      "metadata": {
        "id": "y06lT5ANLLjA"
      },
      "id": "y06lT5ANLLjA"
    },
    {
      "cell_type": "code",
      "source": [
        "# COMPLETE THIS CODE"
      ],
      "metadata": {
        "id": "ECzPUucnM9wF"
      },
      "id": "ECzPUucnM9wF",
      "execution_count": null,
      "outputs": []
    },
    {
      "cell_type": "code",
      "source": [
        "# COMPLETE THIS CODE"
      ],
      "metadata": {
        "id": "ovWX1bpNM9e5"
      },
      "id": "ovWX1bpNM9e5",
      "execution_count": null,
      "outputs": []
    },
    {
      "cell_type": "code",
      "source": [
        "# COMPLETE THIS CODE"
      ],
      "metadata": {
        "id": "QwNeCFwMXSQ5"
      },
      "id": "QwNeCFwMXSQ5",
      "execution_count": null,
      "outputs": []
    },
    {
      "cell_type": "markdown",
      "source": [
        "### **Problem #2.6**\n",
        "\n",
        "**Together**, create a `second_lab` object, and set the `TA` attribute to the name of your TA. Then, output the `TA` attribute."
      ],
      "metadata": {
        "id": "9cPRASJ84IOA"
      },
      "id": "9cPRASJ84IOA"
    },
    {
      "cell_type": "code",
      "source": [
        "my_lab = # COMPLETE THIS CODE"
      ],
      "metadata": {
        "id": "waLbv5zf4IOZ"
      },
      "execution_count": null,
      "outputs": [],
      "id": "waLbv5zf4IOZ"
    },
    {
      "cell_type": "markdown",
      "source": [
        "### **Problem #2.7**\n",
        "\n",
        "**Independently**, use the `attendance_code` attribute of the `second_lab` object to find today's attendance poll code.\n"
      ],
      "metadata": {
        "id": "lVSDMw5H3eXk"
      },
      "id": "lVSDMw5H3eXk"
    },
    {
      "cell_type": "code",
      "source": [
        "# COMPLETE THIS CODE"
      ],
      "metadata": {
        "id": "p2BGGITW3eYE"
      },
      "execution_count": null,
      "outputs": [],
      "id": "p2BGGITW3eYE"
    },
    {
      "cell_type": "markdown",
      "source": [
        "### **Problem #2.8**\n",
        "\n",
        "**Independently**, use the `check_in` method of the `second_lab` object to add your name to the list of attendees. This method requires one argument: the name of the person checking in. Check that your name was added to the list of attendees by checking the `attendees` attribute.\n"
      ],
      "metadata": {
        "id": "6tjrl7kx2-Sz"
      },
      "id": "6tjrl7kx2-Sz"
    },
    {
      "cell_type": "code",
      "source": [
        "# COMPLETE THIS CODE"
      ],
      "metadata": {
        "id": "nYpfSXby2-S9"
      },
      "execution_count": null,
      "outputs": [],
      "id": "nYpfSXby2-S9"
    },
    {
      "cell_type": "markdown",
      "source": [
        "###**Problem #2.9**\n",
        "\n",
        "**Independently**, create a `plant` object using its corresponding function. Then, using the following methods, check its health, water it, set it's light level, wait three days, and check its health again.\n",
        "\n",
        "* `check_health()`\n",
        "* `water_plant(amount)`\n",
        "* `set_light(level)`\n",
        "* `wait(num_days)`"
      ],
      "metadata": {
        "id": "uW7IdP0C9WJp"
      },
      "id": "uW7IdP0C9WJp"
    },
    {
      "cell_type": "code",
      "source": [
        "# COMPLETE THIS CODE"
      ],
      "metadata": {
        "id": "1jqDWpnSFjTX"
      },
      "id": "1jqDWpnSFjTX",
      "execution_count": null,
      "outputs": []
    },
    {
      "cell_type": "code",
      "source": [
        "# COMPLETE THIS CODE"
      ],
      "metadata": {
        "id": "Uu6nEPLLFjJs"
      },
      "id": "Uu6nEPLLFjJs",
      "execution_count": null,
      "outputs": []
    },
    {
      "cell_type": "code",
      "source": [
        "# COMPLETE THIS CODE"
      ],
      "metadata": {
        "id": "NpVj77wV9VwJ"
      },
      "id": "NpVj77wV9VwJ",
      "execution_count": null,
      "outputs": []
    },
    {
      "cell_type": "code",
      "source": [
        "# COMPLETE THIS CODE"
      ],
      "metadata": {
        "id": "6y0i_BSEHQs1"
      },
      "execution_count": null,
      "outputs": [],
      "id": "6y0i_BSEHQs1"
    },
    {
      "cell_type": "markdown",
      "source": [
        "### **Problem #2.10 [CHALLENGE]**\n",
        "\n",
        "**Independently**, add the names of two of your classmates to the list of attendees. Then, check the [methods of the list object](https://www.w3schools.com/python/python_ref_list.asp) to find a method that will sort the list of attendees alphabetically. Finally, call the `lab_summary` method of the `second_lab` object to print out a lab summary (this method does not require any arguments)\n",
        "\n",
        "**Note:** Whenever you get stuck on a piece of code, you can always look up the object or the function you are working with, and there will be documentation describing all methods, attriutes, and required arguments."
      ],
      "metadata": {
        "id": "Os9kMW424iWf"
      },
      "id": "Os9kMW424iWf"
    },
    {
      "cell_type": "code",
      "source": [
        "# COMPLETE THIS CODE"
      ],
      "metadata": {
        "id": "Fb6kvtGQ4iWn"
      },
      "execution_count": null,
      "outputs": [],
      "id": "Fb6kvtGQ4iWn"
    },
    {
      "cell_type": "markdown",
      "source": [
        "---\n",
        "\n",
        "<center>\n",
        "\n",
        "### **Wait for Your Instructor to Continue**\n",
        "\n",
        "---"
      ],
      "metadata": {
        "id": "_uX885yrIh5T"
      },
      "id": "_uX885yrIh5T"
    },
    {
      "cell_type": "markdown",
      "metadata": {
        "id": "XvDIuw6vlsKN"
      },
      "source": [
        "<a name=\"p3\"></a>\n",
        "\n",
        "---\n",
        "## **Part 3: Debugging**\n",
        "---\n",
        "\n",
        "In this part, we will explore how to identify and correct errors in Python.\n",
        "\n",
        "<br>\n",
        "\n",
        "**NOTE**: Here and in general, you may not be familiar with the syntax presented in every line of code. However, you can use what you *do know* to solve the problems here and, often, in general."
      ],
      "id": "XvDIuw6vlsKN"
    },
    {
      "cell_type": "markdown",
      "source": [
        "#### **Problem #3.1**\n",
        "\n",
        "**Together,** remove the line of code that causes the error."
      ],
      "metadata": {
        "id": "ApCmfZIh-ecP"
      },
      "id": "ApCmfZIh-ecP"
    },
    {
      "cell_type": "code",
      "source": [
        "my_list = [1,2,3,4]\n",
        "print(my_list[1])\n",
        "print(my_list[2])\n",
        "print(my_list[3])\n",
        "print(my_list[4])"
      ],
      "metadata": {
        "id": "_TvLwwZv-ecQ"
      },
      "execution_count": null,
      "outputs": [],
      "id": "_TvLwwZv-ecQ"
    },
    {
      "cell_type": "markdown",
      "source": [
        "#### **Problem #3.2**\n",
        "\n",
        "**Together**, correctly print each entry from my_list."
      ],
      "metadata": {
        "id": "rHWtdxaXPOrK"
      },
      "id": "rHWtdxaXPOrK"
    },
    {
      "cell_type": "code",
      "source": [
        "print(my_list[# COMPLETE THIS CODE"
      ],
      "metadata": {
        "id": "sRqUoXp-PjJG"
      },
      "id": "sRqUoXp-PjJG",
      "execution_count": null,
      "outputs": []
    },
    {
      "cell_type": "markdown",
      "source": [
        "#### **Problem #3.3**\n",
        "\n",
        "**Together,** debug the code shown below."
      ],
      "metadata": {
        "id": "nU_fifgR7jM5"
      },
      "id": "nU_fifgR7jM5"
    },
    {
      "cell_type": "code",
      "source": [
        "#f(x) = ax^2 + bx + c\n",
        "a = 1\n",
        "b = 0\n",
        "c = -9\n",
        "x1 = (-b + (b**2 - 4*a*c)**0.5)/(2*a)\n",
        "x1 = (-b - (b**2 - 4*a*c)**0.5)/(2*a)\n",
        "print(x1)\n",
        "print(X2)"
      ],
      "metadata": {
        "id": "gciUmz8i7jNN",
        "colab": {
          "base_uri": "https://localhost:8080/",
          "height": 217
        },
        "outputId": "a7ed1591-afe0-4594-caf4-143b0d166fb1"
      },
      "execution_count": null,
      "outputs": [
        {
          "output_type": "stream",
          "name": "stdout",
          "text": [
            "3.0\n"
          ]
        },
        {
          "output_type": "error",
          "ename": "NameError",
          "evalue": "ignored",
          "traceback": [
            "\u001b[0;31m---------------------------------------------------------------------------\u001b[0m",
            "\u001b[0;31mNameError\u001b[0m                                 Traceback (most recent call last)",
            "\u001b[0;32m<ipython-input-28-612118a43081>\u001b[0m in \u001b[0;36m<cell line: 8>\u001b[0;34m()\u001b[0m\n\u001b[1;32m      6\u001b[0m \u001b[0mx1\u001b[0m \u001b[0;34m=\u001b[0m \u001b[0;34m(\u001b[0m\u001b[0;34m-\u001b[0m\u001b[0mb\u001b[0m\u001b[0;34m+\u001b[0m\u001b[0;34m(\u001b[0m\u001b[0mb\u001b[0m\u001b[0;34m**\u001b[0m\u001b[0;36m2\u001b[0m\u001b[0;34m-\u001b[0m\u001b[0;36m4\u001b[0m\u001b[0;34m*\u001b[0m\u001b[0ma\u001b[0m\u001b[0;34m*\u001b[0m\u001b[0mc\u001b[0m\u001b[0;34m)\u001b[0m\u001b[0;34m**\u001b[0m\u001b[0;36m0.5\u001b[0m\u001b[0;34m)\u001b[0m\u001b[0;34m/\u001b[0m\u001b[0;34m(\u001b[0m\u001b[0;36m2\u001b[0m\u001b[0;34m*\u001b[0m\u001b[0ma\u001b[0m\u001b[0;34m)\u001b[0m\u001b[0;34m\u001b[0m\u001b[0;34m\u001b[0m\u001b[0m\n\u001b[1;32m      7\u001b[0m \u001b[0mprint\u001b[0m\u001b[0;34m(\u001b[0m\u001b[0mx1\u001b[0m\u001b[0;34m)\u001b[0m\u001b[0;34m\u001b[0m\u001b[0;34m\u001b[0m\u001b[0m\n\u001b[0;32m----> 8\u001b[0;31m \u001b[0mprint\u001b[0m\u001b[0;34m(\u001b[0m\u001b[0mX2\u001b[0m\u001b[0;34m)\u001b[0m\u001b[0;34m\u001b[0m\u001b[0;34m\u001b[0m\u001b[0m\n\u001b[0m",
            "\u001b[0;31mNameError\u001b[0m: name 'X2' is not defined"
          ]
        }
      ],
      "id": "gciUmz8i7jNN"
    },
    {
      "cell_type": "markdown",
      "source": [
        "---\n",
        "\n",
        "#### **Now it's your turn! Try Problems #3.4 - 3.8 on your own.**\n",
        "\n",
        "---"
      ],
      "metadata": {
        "id": "ouBGRgNjwk-9"
      },
      "id": "ouBGRgNjwk-9"
    },
    {
      "cell_type": "markdown",
      "source": [
        "#### **Problem #3.4**\n",
        "\n",
        "**Independently,** debug the code shown below."
      ],
      "metadata": {
        "id": "eU1RYFlx8cJ6"
      },
      "id": "eU1RYFlx8cJ6"
    },
    {
      "cell_type": "code",
      "source": [
        "length = \"30 meters\"\n",
        "width = \"10 meters\"\n",
        "area = calculate_area(length, width)\n",
        "print(\"The area is \" + area)"
      ],
      "metadata": {
        "id": "7T_0BfxG8cKE",
        "colab": {
          "base_uri": "https://localhost:8080/",
          "height": 321
        },
        "outputId": "e5b73a08-b0c0-4c39-9f0e-0701efa5f204"
      },
      "execution_count": null,
      "outputs": [
        {
          "output_type": "error",
          "ename": "TypeError",
          "evalue": "ignored",
          "traceback": [
            "\u001b[0;31m---------------------------------------------------------------------------\u001b[0m",
            "\u001b[0;31mTypeError\u001b[0m                                 Traceback (most recent call last)",
            "\u001b[0;32m<ipython-input-33-76fa2c3f69c8>\u001b[0m in \u001b[0;36m<cell line: 3>\u001b[0;34m()\u001b[0m\n\u001b[1;32m      1\u001b[0m \u001b[0mlength\u001b[0m \u001b[0;34m=\u001b[0m \u001b[0;34m\"30 meters\"\u001b[0m\u001b[0;34m\u001b[0m\u001b[0;34m\u001b[0m\u001b[0m\n\u001b[1;32m      2\u001b[0m \u001b[0mwidth\u001b[0m \u001b[0;34m=\u001b[0m \u001b[0;34m\"10 meters\"\u001b[0m\u001b[0;34m\u001b[0m\u001b[0;34m\u001b[0m\u001b[0m\n\u001b[0;32m----> 3\u001b[0;31m \u001b[0marea\u001b[0m \u001b[0;34m=\u001b[0m \u001b[0mcalculate_area\u001b[0m\u001b[0;34m(\u001b[0m\u001b[0mlength\u001b[0m\u001b[0;34m,\u001b[0m \u001b[0mwidth\u001b[0m\u001b[0;34m)\u001b[0m\u001b[0;34m\u001b[0m\u001b[0;34m\u001b[0m\u001b[0m\n\u001b[0m\u001b[1;32m      4\u001b[0m \u001b[0mprint\u001b[0m\u001b[0;34m(\u001b[0m\u001b[0;34m\"The area is \"\u001b[0m \u001b[0;34m+\u001b[0m \u001b[0marea\u001b[0m\u001b[0;34m)\u001b[0m\u001b[0;34m\u001b[0m\u001b[0;34m\u001b[0m\u001b[0m\n",
            "\u001b[0;32m<ipython-input-30-d9169600f47a>\u001b[0m in \u001b[0;36mcalculate_area\u001b[0;34m(length, width)\u001b[0m\n\u001b[1;32m     24\u001b[0m \u001b[0;34m\u001b[0m\u001b[0m\n\u001b[1;32m     25\u001b[0m \u001b[0;32mdef\u001b[0m \u001b[0mcalculate_area\u001b[0m\u001b[0;34m(\u001b[0m\u001b[0mlength\u001b[0m\u001b[0;34m:\u001b[0m\u001b[0mint\u001b[0m\u001b[0;34m,\u001b[0m \u001b[0mwidth\u001b[0m\u001b[0;34m:\u001b[0m\u001b[0mint\u001b[0m\u001b[0;34m)\u001b[0m\u001b[0;34m:\u001b[0m\u001b[0;34m\u001b[0m\u001b[0;34m\u001b[0m\u001b[0m\n\u001b[0;32m---> 26\u001b[0;31m   \u001b[0marea\u001b[0m \u001b[0;34m=\u001b[0m \u001b[0mlength\u001b[0m \u001b[0;34m*\u001b[0m \u001b[0mwidth\u001b[0m\u001b[0;34m\u001b[0m\u001b[0;34m\u001b[0m\u001b[0m\n\u001b[0m\u001b[1;32m     27\u001b[0m   \u001b[0;32mreturn\u001b[0m \u001b[0marea\u001b[0m\u001b[0;34m\u001b[0m\u001b[0;34m\u001b[0m\u001b[0m\n",
            "\u001b[0;31mTypeError\u001b[0m: can't multiply sequence by non-int of type 'str'"
          ]
        }
      ],
      "id": "7T_0BfxG8cKE"
    },
    {
      "cell_type": "markdown",
      "source": [
        "#### **Problem #3.5**\n",
        "\n",
        "**Independently,** debug the code shown below."
      ],
      "metadata": {
        "id": "u0vQg1AM8qDU"
      },
      "id": "u0vQg1AM8qDU"
    },
    {
      "cell_type": "code",
      "source": [
        "my_name = \"ricky\"\n",
        "my_name.Capitalize()\n",
        "Print(my_name)"
      ],
      "metadata": {
        "id": "8mauoKut8qDt",
        "colab": {
          "base_uri": "https://localhost:8080/",
          "height": 211
        },
        "outputId": "0e4024c6-1b94-492a-8c60-e4144913cc61"
      },
      "execution_count": null,
      "outputs": [
        {
          "output_type": "error",
          "ename": "AttributeError",
          "evalue": "ignored",
          "traceback": [
            "\u001b[0;31m---------------------------------------------------------------------------\u001b[0m",
            "\u001b[0;31mAttributeError\u001b[0m                            Traceback (most recent call last)",
            "\u001b[0;32m<ipython-input-107-21c6be7c8c73>\u001b[0m in \u001b[0;36m<cell line: 2>\u001b[0;34m()\u001b[0m\n\u001b[1;32m      1\u001b[0m \u001b[0mmy_name\u001b[0m \u001b[0;34m=\u001b[0m \u001b[0;34m\"ricky\"\u001b[0m\u001b[0;34m\u001b[0m\u001b[0;34m\u001b[0m\u001b[0m\n\u001b[0;32m----> 2\u001b[0;31m \u001b[0mmy_name\u001b[0m\u001b[0;34m.\u001b[0m\u001b[0mCapitalize\u001b[0m\u001b[0;34m(\u001b[0m\u001b[0;34m)\u001b[0m\u001b[0;34m\u001b[0m\u001b[0;34m\u001b[0m\u001b[0m\n\u001b[0m\u001b[1;32m      3\u001b[0m \u001b[0mPrint\u001b[0m\u001b[0;34m(\u001b[0m\u001b[0mmy_name\u001b[0m\u001b[0;34m)\u001b[0m\u001b[0;34m\u001b[0m\u001b[0;34m\u001b[0m\u001b[0m\n",
            "\u001b[0;31mAttributeError\u001b[0m: 'str' object has no attribute 'Capitalize'"
          ]
        }
      ],
      "id": "8mauoKut8qDt"
    },
    {
      "cell_type": "markdown",
      "source": [
        "#### **Problem #3.6**\n",
        "\n",
        "**Independently**, debug the code shown below."
      ],
      "metadata": {
        "id": "RE9FToJzAqOc"
      },
      "id": "RE9FToJzAqOc"
    },
    {
      "cell_type": "code",
      "source": [
        "x = \"47\"\n",
        "y = 3\n",
        "z = x**y\n",
        "print(z)"
      ],
      "metadata": {
        "colab": {
          "base_uri": "https://localhost:8080/",
          "height": 228
        },
        "id": "7kfw5iyWA2a3",
        "outputId": "b60eaca1-a71b-4317-82d3-7a355c7b0999"
      },
      "execution_count": null,
      "outputs": [
        {
          "output_type": "error",
          "ename": "TypeError",
          "evalue": "ignored",
          "traceback": [
            "\u001b[0;31m---------------------------------------------------------------------------\u001b[0m",
            "\u001b[0;31mTypeError\u001b[0m                                 Traceback (most recent call last)",
            "\u001b[0;32m<ipython-input-8-58c451a1db5f>\u001b[0m in \u001b[0;36m<cell line: 3>\u001b[0;34m()\u001b[0m\n\u001b[1;32m      1\u001b[0m \u001b[0mx\u001b[0m \u001b[0;34m=\u001b[0m \u001b[0;34m\"47\"\u001b[0m\u001b[0;34m\u001b[0m\u001b[0;34m\u001b[0m\u001b[0m\n\u001b[1;32m      2\u001b[0m \u001b[0my\u001b[0m \u001b[0;34m=\u001b[0m \u001b[0;36m3\u001b[0m\u001b[0;34m\u001b[0m\u001b[0;34m\u001b[0m\u001b[0m\n\u001b[0;32m----> 3\u001b[0;31m \u001b[0mz\u001b[0m \u001b[0;34m=\u001b[0m \u001b[0mx\u001b[0m\u001b[0;34m**\u001b[0m\u001b[0my\u001b[0m\u001b[0;34m\u001b[0m\u001b[0;34m\u001b[0m\u001b[0m\n\u001b[0m\u001b[1;32m      4\u001b[0m \u001b[0mprint\u001b[0m\u001b[0;34m(\u001b[0m\u001b[0mz\u001b[0m\u001b[0;34m)\u001b[0m\u001b[0;34m\u001b[0m\u001b[0;34m\u001b[0m\u001b[0m\n",
            "\u001b[0;31mTypeError\u001b[0m: unsupported operand type(s) for ** or pow(): 'str' and 'int'"
          ]
        }
      ],
      "id": "7kfw5iyWA2a3"
    },
    {
      "cell_type": "markdown",
      "source": [
        "#### **Problem #3.7**\n",
        "\n",
        "**Independently**, debug the code shown below."
      ],
      "metadata": {
        "id": "AQ_Z2Ct9_QG9"
      },
      "id": "AQ_Z2Ct9_QG9"
    },
    {
      "cell_type": "code",
      "source": [
        "print(willoughby.mood)\n",
        "willoughby.play()\n",
        "print(willoughby.mood)"
      ],
      "metadata": {
        "colab": {
          "base_uri": "https://localhost:8080/",
          "height": 211
        },
        "id": "LJdSVbcc_eeF",
        "outputId": "87597637-4fbf-4204-a13c-a4d77ef92734"
      },
      "execution_count": null,
      "outputs": [
        {
          "output_type": "error",
          "ename": "NameError",
          "evalue": "ignored",
          "traceback": [
            "\u001b[0;31m---------------------------------------------------------------------------\u001b[0m",
            "\u001b[0;31mNameError\u001b[0m                                 Traceback (most recent call last)",
            "\u001b[0;32m<ipython-input-1-ca86ae7b67b8>\u001b[0m in \u001b[0;36m<cell line: 1>\u001b[0;34m()\u001b[0m\n\u001b[0;32m----> 1\u001b[0;31m \u001b[0mprint\u001b[0m\u001b[0;34m(\u001b[0m\u001b[0mwilloughby\u001b[0m\u001b[0;34m.\u001b[0m\u001b[0mmood\u001b[0m\u001b[0;34m)\u001b[0m\u001b[0;34m\u001b[0m\u001b[0;34m\u001b[0m\u001b[0m\n\u001b[0m\u001b[1;32m      2\u001b[0m \u001b[0mwilloughby\u001b[0m\u001b[0;34m.\u001b[0m\u001b[0mplay\u001b[0m\u001b[0;34m(\u001b[0m\u001b[0;34m)\u001b[0m\u001b[0;34m\u001b[0m\u001b[0;34m\u001b[0m\u001b[0m\n\u001b[1;32m      3\u001b[0m \u001b[0mprint\u001b[0m\u001b[0;34m(\u001b[0m\u001b[0mwilloughby\u001b[0m\u001b[0;34m.\u001b[0m\u001b[0mmood\u001b[0m\u001b[0;34m)\u001b[0m\u001b[0;34m\u001b[0m\u001b[0;34m\u001b[0m\u001b[0m\n",
            "\u001b[0;31mNameError\u001b[0m: name 'willoughby' is not defined"
          ]
        }
      ],
      "id": "LJdSVbcc_eeF"
    },
    {
      "cell_type": "markdown",
      "source": [
        "#### **Problem #3.8**\n",
        "\n",
        "**Independently**, debug the code shown below."
      ],
      "metadata": {
        "id": "NfApuJeDC6Ht"
      },
      "id": "NfApuJeDC6Ht"
    },
    {
      "cell_type": "code",
      "source": [
        "cactus = plant\n",
        "cactus.check_health"
      ],
      "metadata": {
        "colab": {
          "base_uri": "https://localhost:8080/"
        },
        "id": "NF2e5jYVDSh3",
        "outputId": "793eac0c-2a43-4931-f864-bfc81334af46"
      },
      "execution_count": null,
      "outputs": [
        {
          "output_type": "execute_result",
          "data": {
            "text/plain": [
              "<function __main__.plant.check_health(self)>"
            ]
          },
          "metadata": {},
          "execution_count": 28
        }
      ],
      "id": "NF2e5jYVDSh3"
    },
    {
      "cell_type": "code",
      "source": [
        "cactus.water_plant(\"1\")\n",
        "cactus.set_light(\"8\")\n",
        "cactus.check_health()"
      ],
      "metadata": {
        "colab": {
          "base_uri": "https://localhost:8080/",
          "height": 211
        },
        "id": "7xvp4wRJEavz",
        "outputId": "f9a5cafa-b25a-4594-d4b2-690fd498c3dd"
      },
      "execution_count": null,
      "outputs": [
        {
          "output_type": "error",
          "ename": "TypeError",
          "evalue": "ignored",
          "traceback": [
            "\u001b[0;31m---------------------------------------------------------------------------\u001b[0m",
            "\u001b[0;31mTypeError\u001b[0m                                 Traceback (most recent call last)",
            "\u001b[0;32m<ipython-input-29-20c35b332150>\u001b[0m in \u001b[0;36m<cell line: 1>\u001b[0;34m()\u001b[0m\n\u001b[0;32m----> 1\u001b[0;31m \u001b[0mcactus\u001b[0m\u001b[0;34m.\u001b[0m\u001b[0mwater_plant\u001b[0m\u001b[0;34m(\u001b[0m\u001b[0;34m\"1\"\u001b[0m\u001b[0;34m)\u001b[0m\u001b[0;34m\u001b[0m\u001b[0;34m\u001b[0m\u001b[0m\n\u001b[0m\u001b[1;32m      2\u001b[0m \u001b[0mcactus\u001b[0m\u001b[0;34m.\u001b[0m\u001b[0mset_light\u001b[0m\u001b[0;34m(\u001b[0m\u001b[0;34m\"8\"\u001b[0m\u001b[0;34m)\u001b[0m\u001b[0;34m\u001b[0m\u001b[0;34m\u001b[0m\u001b[0m\n\u001b[1;32m      3\u001b[0m \u001b[0mcactus\u001b[0m\u001b[0;34m.\u001b[0m\u001b[0mcheck_health\u001b[0m\u001b[0;34m(\u001b[0m\u001b[0;34m)\u001b[0m\u001b[0;34m\u001b[0m\u001b[0;34m\u001b[0m\u001b[0m\n",
            "\u001b[0;31mTypeError\u001b[0m: plant.water_plant() missing 1 required positional argument: 'amount'"
          ]
        }
      ],
      "id": "7xvp4wRJEavz"
    },
    {
      "cell_type": "code",
      "source": [
        "cactus.wait(3)\n",
        "print(cactus.check_health)"
      ],
      "metadata": {
        "colab": {
          "base_uri": "https://localhost:8080/",
          "height": 193
        },
        "id": "ik32NRnZEbFV",
        "outputId": "61148b2b-04ab-441b-fe99-dd34054fbd66"
      },
      "execution_count": null,
      "outputs": [
        {
          "output_type": "error",
          "ename": "TypeError",
          "evalue": "ignored",
          "traceback": [
            "\u001b[0;31m---------------------------------------------------------------------------\u001b[0m",
            "\u001b[0;31mTypeError\u001b[0m                                 Traceback (most recent call last)",
            "\u001b[0;32m<ipython-input-30-6497d31c1bbe>\u001b[0m in \u001b[0;36m<cell line: 1>\u001b[0;34m()\u001b[0m\n\u001b[0;32m----> 1\u001b[0;31m \u001b[0mcactus\u001b[0m\u001b[0;34m.\u001b[0m\u001b[0mwait\u001b[0m\u001b[0;34m(\u001b[0m\u001b[0;36m3\u001b[0m\u001b[0;34m)\u001b[0m\u001b[0;34m\u001b[0m\u001b[0;34m\u001b[0m\u001b[0m\n\u001b[0m\u001b[1;32m      2\u001b[0m \u001b[0mprint\u001b[0m\u001b[0;34m(\u001b[0m\u001b[0mcactus\u001b[0m\u001b[0;34m.\u001b[0m\u001b[0mcheck_health\u001b[0m\u001b[0;34m)\u001b[0m\u001b[0;34m\u001b[0m\u001b[0;34m\u001b[0m\u001b[0m\n",
            "\u001b[0;31mTypeError\u001b[0m: plant.wait() missing 1 required positional argument: 'num_days'"
          ]
        }
      ],
      "id": "ik32NRnZEbFV"
    },
    {
      "cell_type": "markdown",
      "metadata": {
        "id": "VnBfb8HlRC3c"
      },
      "source": [
        "<a name=\"p4\"></a>\n",
        "\n",
        "---\n",
        "## **Part 4: Additional Practice [OPTIONAL]**\n",
        "---"
      ],
      "id": "VnBfb8HlRC3c"
    },
    {
      "cell_type": "markdown",
      "metadata": {
        "id": "cQ8l5K3qRQAa"
      },
      "source": [
        "<a name=\"p4.1\"></a>\n",
        "\n",
        "---\n",
        "### **Part 4.1: The Fundamentals**\n",
        "---\n",
        "\n",
        "This part contains questions on the basic syntax that we have learned. Use this section to practice and check your understanding."
      ],
      "id": "cQ8l5K3qRQAa"
    },
    {
      "cell_type": "markdown",
      "metadata": {
        "id": "oMCHyhfet4wi"
      },
      "source": [
        "#### **Problem #4.1.1**\n",
        "\n",
        "Write code that outputs the names of three different countries. **HINT**: You will need a new code cell for every output."
      ],
      "id": "oMCHyhfet4wi"
    },
    {
      "cell_type": "code",
      "execution_count": null,
      "metadata": {
        "id": "_WGe1OS14lY4"
      },
      "outputs": [],
      "source": [
        "# COMPLETE THIS CODE"
      ],
      "id": "_WGe1OS14lY4"
    },
    {
      "cell_type": "code",
      "source": [
        "# COMPLETE THIS CODE"
      ],
      "metadata": {
        "id": "oEnG4TGIsRFV"
      },
      "execution_count": null,
      "outputs": [],
      "id": "oEnG4TGIsRFV"
    },
    {
      "cell_type": "code",
      "source": [
        "# COMPLETE THIS CODE"
      ],
      "metadata": {
        "id": "fp5qPW6HsRk-"
      },
      "execution_count": null,
      "outputs": [],
      "id": "fp5qPW6HsRk-"
    },
    {
      "cell_type": "markdown",
      "metadata": {
        "id": "QinoVuPOAdBg"
      },
      "source": [
        "#### **Problem #4.1.2**\n",
        "\n",
        "Write code that outputs the result of multiplying 5 by 23."
      ],
      "id": "QinoVuPOAdBg"
    },
    {
      "cell_type": "code",
      "execution_count": null,
      "metadata": {
        "id": "z4kNYrt2Nj0W"
      },
      "outputs": [],
      "source": [
        "# COMPLETE THIS CODE"
      ],
      "id": "z4kNYrt2Nj0W"
    },
    {
      "cell_type": "markdown",
      "metadata": {
        "id": "brKDsi2BuT75"
      },
      "source": [
        "#### **Problem #4.1.3**\n",
        "\n",
        "Write code that outputs the result of raising 2 to the 100th power."
      ],
      "id": "brKDsi2BuT75"
    },
    {
      "cell_type": "code",
      "execution_count": null,
      "metadata": {
        "id": "_XU69Lrc4mJ-"
      },
      "outputs": [],
      "source": [
        "# COMPLETE THIS CODE"
      ],
      "id": "_XU69Lrc4mJ-"
    },
    {
      "cell_type": "markdown",
      "metadata": {
        "id": "DrNIKf1TAo1z"
      },
      "source": [
        "#### **Problem #4.1.4**\n",
        "Write code that creates and outputs a variable called `popular_name` and assign to it the `string` `'Olivia'`."
      ],
      "id": "DrNIKf1TAo1z"
    },
    {
      "cell_type": "code",
      "execution_count": null,
      "metadata": {
        "id": "cD69JsmO47iH"
      },
      "outputs": [],
      "source": [
        "# COMPLETE THIS CODE"
      ],
      "id": "cD69JsmO47iH"
    },
    {
      "cell_type": "markdown",
      "metadata": {
        "id": "oLDz58wguUFM"
      },
      "source": [
        "#### **Problem #4.1.5**\n",
        "\n",
        "Create a variable `birth_year` and set it equal to the year your were born. Then print, `\"I was born in <birth_year>\"`."
      ],
      "id": "oLDz58wguUFM"
    },
    {
      "cell_type": "code",
      "execution_count": null,
      "metadata": {
        "id": "xt9fHgKF5Az3"
      },
      "outputs": [],
      "source": [
        "# COMPLETE THIS CODE"
      ],
      "id": "xt9fHgKF5Az3"
    },
    {
      "cell_type": "code",
      "source": [
        "# COMPLETE THIS CODE"
      ],
      "metadata": {
        "id": "S2qI4u-dr3Kz"
      },
      "execution_count": null,
      "outputs": [],
      "id": "S2qI4u-dr3Kz"
    },
    {
      "cell_type": "markdown",
      "metadata": {
        "id": "-bnV4zY2yMs8"
      },
      "source": [
        "#### **Problem #4.1.6**\n",
        "\n",
        "Create a variable `favorite_food` and assign to it a `string` with your favorite food. Print `'I love to eat <favorite_food>'`."
      ],
      "id": "-bnV4zY2yMs8"
    },
    {
      "cell_type": "code",
      "execution_count": null,
      "metadata": {
        "id": "DqES7-rS5jcm"
      },
      "outputs": [],
      "source": [
        "# COMPLETE THIS CODE"
      ],
      "id": "DqES7-rS5jcm"
    },
    {
      "cell_type": "code",
      "source": [
        "# COMPLETE THIS CODE"
      ],
      "metadata": {
        "id": "jLNR6hi0sFEQ"
      },
      "execution_count": null,
      "outputs": [],
      "id": "jLNR6hi0sFEQ"
    },
    {
      "cell_type": "markdown",
      "source": [
        "#### **Problem #4.1.7**\n",
        "\n",
        "Debug the code shown below."
      ],
      "metadata": {
        "id": "WwhkO1SgAuov"
      },
      "id": "WwhkO1SgAuov"
    },
    {
      "cell_type": "code",
      "source": [
        "my_list = [10].append(20).append(30)\n",
        "my_list"
      ],
      "metadata": {
        "id": "Rhg2s6BIAupN",
        "colab": {
          "base_uri": "https://localhost:8080/",
          "height": 197
        },
        "outputId": "9935b00b-1bb1-4600-c18a-ee5db80c6dc2"
      },
      "execution_count": null,
      "outputs": [
        {
          "output_type": "error",
          "ename": "AttributeError",
          "evalue": "ignored",
          "traceback": [
            "\u001b[0;31m---------------------------------------------------------------------------\u001b[0m",
            "\u001b[0;31mAttributeError\u001b[0m                            Traceback (most recent call last)",
            "\u001b[0;32m<ipython-input-21-8abf47e2217f>\u001b[0m in \u001b[0;36m<cell line: 1>\u001b[0;34m()\u001b[0m\n\u001b[0;32m----> 1\u001b[0;31m \u001b[0mmy_list\u001b[0m \u001b[0;34m=\u001b[0m \u001b[0;34m[\u001b[0m\u001b[0;36m10\u001b[0m\u001b[0;34m]\u001b[0m\u001b[0;34m.\u001b[0m\u001b[0mappend\u001b[0m\u001b[0;34m(\u001b[0m\u001b[0;36m20\u001b[0m\u001b[0;34m)\u001b[0m\u001b[0;34m.\u001b[0m\u001b[0mappend\u001b[0m\u001b[0;34m(\u001b[0m\u001b[0;36m30\u001b[0m\u001b[0;34m)\u001b[0m\u001b[0;34m\u001b[0m\u001b[0;34m\u001b[0m\u001b[0m\n\u001b[0m\u001b[1;32m      2\u001b[0m \u001b[0mmy_list\u001b[0m\u001b[0;34m\u001b[0m\u001b[0;34m\u001b[0m\u001b[0m\n",
            "\u001b[0;31mAttributeError\u001b[0m: 'NoneType' object has no attribute 'append'"
          ]
        }
      ],
      "id": "Rhg2s6BIAupN"
    },
    {
      "cell_type": "markdown",
      "source": [
        "#### **Problem #4.1.8**\n",
        "\n",
        "Debug the following code.\n",
        "\n",
        "**HINT**: How many roots should this polynomial have? Even if you're not sure about the math, you could use some of the code below to find out!"
      ],
      "metadata": {
        "id": "eyRaXBoqAfLp"
      },
      "id": "eyRaXBoqAfLp"
    },
    {
      "cell_type": "code",
      "source": [
        "#f(x) = x^2 + 2x + 1\n",
        "root1, root2 = dynamic_find_roots(1,2,1)\n",
        "root1"
      ],
      "metadata": {
        "id": "kIDe-AnOAfME",
        "colab": {
          "base_uri": "https://localhost:8080/",
          "height": 214
        },
        "outputId": "4b47c576-c715-4b6b-dd68-667404fa65a6"
      },
      "execution_count": null,
      "outputs": [
        {
          "output_type": "error",
          "ename": "NameError",
          "evalue": "ignored",
          "traceback": [
            "\u001b[0;31m---------------------------------------------------------------------------\u001b[0m",
            "\u001b[0;31mNameError\u001b[0m                                 Traceback (most recent call last)",
            "\u001b[0;32m<ipython-input-23-ec7a8fb03e41>\u001b[0m in \u001b[0;36m<cell line: 2>\u001b[0;34m()\u001b[0m\n\u001b[1;32m      1\u001b[0m \u001b[0;31m#f(x) = x^2 + 2x + 1\u001b[0m\u001b[0;34m\u001b[0m\u001b[0;34m\u001b[0m\u001b[0m\n\u001b[0;32m----> 2\u001b[0;31m \u001b[0mroot1\u001b[0m\u001b[0;34m,\u001b[0m \u001b[0mroot2\u001b[0m \u001b[0;34m=\u001b[0m \u001b[0mdynamic_find_roots\u001b[0m\u001b[0;34m(\u001b[0m\u001b[0;36m1\u001b[0m\u001b[0;34m,\u001b[0m\u001b[0;36m2\u001b[0m\u001b[0;34m,\u001b[0m\u001b[0;36m1\u001b[0m\u001b[0;34m)\u001b[0m\u001b[0;34m\u001b[0m\u001b[0;34m\u001b[0m\u001b[0m\n\u001b[0m\u001b[1;32m      3\u001b[0m \u001b[0mroot1\u001b[0m\u001b[0;34m\u001b[0m\u001b[0;34m\u001b[0m\u001b[0m\n",
            "\u001b[0;31mNameError\u001b[0m: name 'dynamic_find_roots' is not defined"
          ]
        }
      ],
      "id": "kIDe-AnOAfME"
    },
    {
      "cell_type": "code",
      "source": [
        "root2"
      ],
      "metadata": {
        "id": "MViu8rh4si1i"
      },
      "execution_count": null,
      "outputs": [],
      "id": "MViu8rh4si1i"
    },
    {
      "cell_type": "markdown",
      "metadata": {
        "id": "cyjIYqnXCenC"
      },
      "source": [
        "<a name=\"p4.2\"></a>\n",
        "\n",
        "---\n",
        "### **Part 4.2: Coding Challenges**\n",
        "---\n",
        "\n",
        "This part contains more challenging problems that you can use to push your Python skills to the next level! **Remember what we have learned about the core programming skills of debugging and reading documentation to tackle these problems.**"
      ],
      "id": "cyjIYqnXCenC"
    },
    {
      "cell_type": "markdown",
      "source": [
        "#### **Problem #4.2.1**\n",
        "\n",
        "**Independently,** write code that prints out a reversed list."
      ],
      "metadata": {
        "id": "gAnsBVX0Gpwl"
      },
      "id": "gAnsBVX0Gpwl"
    },
    {
      "cell_type": "code",
      "source": [
        "my_list = [\"one\",\"two\",\"three\", \"four\",\"five\"]\n",
        "# COMPLETE THIS CODE"
      ],
      "metadata": {
        "id": "YCOSc8uGGpw6"
      },
      "execution_count": null,
      "outputs": [],
      "id": "YCOSc8uGGpw6"
    },
    {
      "cell_type": "markdown",
      "source": [
        "#### **Problem #4.2.2**\n",
        "\n",
        "**Independently,** write code that counts how many times [this article](https://www.ted.com/read/ted-studies/statistics/introductory-essay) uses the word \"data\".\n",
        "\n",
        "**Hint:** The string \"data\" is different from the string \"Data\". You will need to check for both!"
      ],
      "metadata": {
        "id": "so8qhJ7dHtLn"
      },
      "id": "so8qhJ7dHtLn"
    },
    {
      "cell_type": "code",
      "source": [
        "speech = \"\"\"In today's complex 'information jungle,' David McCandless observes that \"Data is the new soil.\" McCandless, a data journalist and information designer, celebrates data as a ubiquitous resource providing a fertile and creative medium from which new ideas and understanding can grow. McCandless's inspiration, statistician Hans Rosling, builds on this idea in his own TEDTalk with his compelling image of flowers growing out of data/soil. These 'flowers' represent the many insights that can be gleaned from effective visualization of data. We're just learning how to till this soil and make sense of the mountains of data constantly being generated. As Gary King, Director of Harvard's Institute for Quantitative Social Science says in his New York Times article \"The Age of Big Data\": It's a revolution. We're really just getting under way. But the march of quantification, made possible by enormous new sources of data, will sweep through academia, business and government. There is no area that is going to be untouched. How do we deal with all this data without getting information overload? How do we use data to gain real insight into the world? Finding ways to pull interesting information out of data can be very rewarding, both personally and professionally. The managing editor of Financial Times observed on CNN's Your Money: \"The people who are able to in a sophisticated and practical way analyze that data are going to have terrific jobs.\" Those who learn how to present data in effective ways will be valuable in every field. Many people, when they think of data, think of tables filled with numbers. But this long-held notion is eroding. Today, we're generating streams of data that are often too complex to be presented in a simple \"table.\" In his TEDTalk, Blaise Aguera y Arcas explores images as data, while Deb Roy uses audio, video, and the text messages in social media as data. Some may also think that only a few specialized professionals can draw insights from data. When we look at data in the right way, however, the results can be fun, insightful, even whimsical — and accessible to everyone! Who knew, for example, that there are more relationship break-ups on Monday than on any other day of the week, or that the most break-ups (at least those discussed on Facebook) occur in mid-December? David McCandless discovered this by analyzing thousands of Facebook status updates. Data, data, everywhere There is more data available to us now than we can possibly process. Every minute, Internet users add the following to the big data pool (i): 204,166,667 email messages sent. More than 2,000,000 Google searches. 84,478 pieces of content added on Facebook. $272,070 spent by consumers via online shopping. More than 100,000 tweets on Twitter. 47,000 app downloads from Apple. 34,722 \"likes\" on Facebook for different brands and organizations. 27,778 new posts on Tumblr blogs\\. 3,600 new photos on Instagram. 3,125 new photos on Flickr]. 2,083 check-ins on Foursquare. 571 new websites created. 347 new blog posts published on Wordpress. 217 new mobile web users. 48 hours of new video on YouTube. These numbers are almost certainly higher now, as you read this. And this just describes a small piece of the data being generated and stored by humanity. We're all leaving data trails — not just on the Internet, but in everything we do. This includes reams of financial data (from credit cards, businesses, and Wall Street), demographic data on the world's populations, meteorological data on weather and the environment, retail sales data that records everything we buy, nutritional data on food and restaurants, sports data of all types, and so on.. Governments are using data to search for terrorist plots, retailers are using it to maximize marketing strategies, and health organizations are using it to track outbreaks of the flu. But did you ever think of collecting data on every minute of your child's life? That's precisely what Deb Roy did. He recorded 90,000 hours of video and 140,000 hours of audio during his son's first years. That's a lot of data! He and his colleagues are using the data to understand how children learn language, and they're now extending this work to analyze publicly available conversations on social media, allowing them to take \"the real-time pulse of a nation.\" Data can provide us with new and deeper insight into our world. It can help break stereotypes and build understanding. But the sheer quantity of data, even in just any one small area of interest, is overwhelming. How can we make sense of some of this data in an insightful way? The power of visualizing data. Visualization can help transform these mountains of data into meaningful information. In his TEDTalk, David McCandless comments that the sense of sight has by far the fastest and biggest bandwidth of any of the five senses. Indeed, about 80% of the information we take in is by eye. Data that seems impenetrable can come alive if presented well in a picture, graph, or even a movie. Hans Rosling tells us that \"Students get very excited — and policy-makers and the corporate sector — when they can see the data.\" It makes sense that, if we can effectively display data visually, we can make it accessible and understandable to more people. Should we worry, however, that by condensing data into a graph, we are simplifying too much and losing some of the important features of the data? Let's look at a fascinating study conducted by researchers Emre Soyer and Robin Hogarth. The study was conducted on economists, who are certainly no strangers to statistical analysis. Three groups of economists were asked the same question concerning a dataset: One group was given the data and a standard statistical analysis of the data; 72% of these economists got the answer wrong. Another group was given the data, the statistical analysis, and a graph; still 61% of these economists got the answer wrong. A third group was given only the graph, and only 3% got the answer wrong. Visualizing data can sometimes be less misleading than using the raw numbers and statistics! What about all the rest of us, who may not be professional economists or statisticians? Nathalie Miebach finds that making art out of data allows people an alternative entry into science. She transforms mountains of weather data into tactile physical structures and musical scores, adding both touch and hearing to the sense of sight to build even greater understanding of data. Another artist, Chris Jordan, is concerned about our ability to comprehend big numbers. As citizens of an ever-more connected global world, we have an increased need to get useable information from big data — big in terms of the volume of numbers as well as their size. Jordan's art is designed to help us process such numbers, especially numbers that relate to issues of addiction and waste. For example, Jordan notes that the United States has the largest percentage of its population in prison of any country on earth: 2.3 million people in prison in the United States in 2005 and the number continues to rise. Jordan uses art, in this case a super-sized image of 2.3 million prison jumpsuits, to help us see that number and to help us begin to process the societal implications of that single data value. Because our brains can't truly process such a large number, his artwork makes it real. The role of technology in visualizing data. The TEDTalks in this collection depend to varying degrees on sophisticated technology to gather, store, process, and display data. Handling massive amounts of data (e.g., David McCandless tracking 10,000 changes in Facebook status, Blaise Aguera y Arcas synching thousands of online images of the Notre Dame Cathedral, or Deb Roy searching for individual words in 90,000 hours of video tape) requires cutting-edge computing tools that have been developed specifically to address the challenges of big data. The ability to manipulate color, size, location, motion, and sound to discover and display important features of data in a way that makes it readily accessible to ordinary humans is a challenging task that depends heavily on increasingly sophisticated technology.. The importance of good visualization. There are good ways and bad ways of presenting data. Many examples of outstanding presentations of data are shown in the TEDTalks. However, sometimes visualizations of data can be ineffective or downright misleading. For example, an inappropriate scale might make a relatively small difference look much more substantial than it should be, or an overly complicated display might obfuscate the main relationships in the data. Statistician Kaiser Fung's blog Junk Charts offers many examples of poor representations of data (and some good ones) with descriptions to help the reader understand what makes a graph effective or ineffective. For more examples of both good and bad representations of data, see data visualization architect Andy Kirk's blog at visualisingdata.com. Both consistently have very current examples from up-to-date sources and events. Creativity, even artistic ability, helps us see data in new ways. Magic happens when interesting data meets effective design: when statistician meets designer (sometimes within the same person). We are fortunate to live in a time when interactive and animated graphs are becoming commonplace, and these tools can be incredibly powerful. Other times, simpler graphs might be more effective. The key is to present data in a way that is visually appealing while allowing the data to speak for itself. Changing perceptions through data. While graphs and charts can lead to misunderstandings, there is ultimately \"truth in numbers.\" As Steven Levitt and Stephen Dubner say in Freakonomics, \"[T]eachers and criminals and real-estate agents may lie, and politicians, and even C.I.A. analysts. But numbers don't.\" Indeed, consideration of data can often be the easiest way to glean objective insights. Again from Freakonomics: \"There is nothing like the sheer power of numbers to scrub away layers of confusion and contradiction.\" Data can help us understand the world as it is, not as we believe it to be. As Hans Rosling demonstrates, it's often not ignorance but our preconceived ideas that get in the way of understanding the world as it is. Publicly-available statistics can reshape our world view: Rosling encourages us to \"let the dataset change your mindset.\" Chris Jordan's powerful images of waste and addiction make us face, rather than deny, the facts. It's easy to hear and then ignore that we use and discard 1 million plastic cups every 6 hours on airline flights alone. When we're confronted with his powerful image, we engage with that fact on an entirely different level (and may never see airline plastic cups in the same way again). The ability to see data expands our perceptions of the world in ways that we're just beginning to understand. Computer simulations allow us to see how diseases spread, how forest fires might be contained, how terror networks communicate. We gain understanding of these things in ways that were unimaginable only a few decades ago. When Blaise Aguera y Arcas demonstrates Photosynth, we feel as if we're looking at the future. By linking together user-contributed digital images culled from all over the Internet, he creates navigable \"immensely rich virtual models of every interesting part of the earth\" created from the collective memory of all of us. Deb Roy does somewhat the same thing with language, pulling in publicly available social media feeds to analyze national and global conversation trends. Roy sums it up with these powerful words: \"What's emerging is an ability to see new social structures and dynamics that have previously not been seen. ...The implications here are profound, whether it's for science, for commerce, for government, or perhaps most of all, for us as individuals.\" Let's begin with the TEDTalk from David McCandless, a self-described \"data detective\" who describes how to highlight hidden patterns in data through its artful representation.\"\"\"\n",
        "\n",
        "\n",
        "# COMPLETE THIS CODE"
      ],
      "metadata": {
        "id": "_4601pvz1SFE"
      },
      "execution_count": null,
      "outputs": [],
      "id": "_4601pvz1SFE"
    },
    {
      "cell_type": "markdown",
      "source": [
        "#### **Problem #4.2.3**\n",
        "\n",
        "**Independently**, research the `dir()` function and what it does to different objects. Use this function to win the plant game from Part 2!"
      ],
      "metadata": {
        "id": "iJKitlSANW32"
      },
      "id": "iJKitlSANW32"
    },
    {
      "cell_type": "code",
      "source": [
        "# COMPLETE THIS CODE"
      ],
      "metadata": {
        "id": "Q33-zYXfNW4O"
      },
      "execution_count": null,
      "outputs": [],
      "id": "Q33-zYXfNW4O"
    },
    {
      "cell_type": "markdown",
      "source": [
        "#### **Problem #4.2.4**\n",
        "\n",
        "**Independently,** research the `numpy` module to find a function that allows you simulate rolling a dice (picking a random number between 1 and 6)."
      ],
      "metadata": {
        "id": "NxqrfDkkJmxT"
      },
      "id": "NxqrfDkkJmxT"
    },
    {
      "cell_type": "code",
      "source": [
        "# COMPLETE THIS CODE"
      ],
      "metadata": {
        "id": "OMyupr31Jmxw"
      },
      "execution_count": null,
      "outputs": [],
      "id": "OMyupr31Jmxw"
    },
    {
      "cell_type": "markdown",
      "source": [
        "#### **Problem #4.2.5**\n",
        "\n",
        "**Independently,** research the `numpy` library and `pyplot` sub-module of the `matplotlib` library and use its objects, methods, and functions to plot the equation below on a graph whose x-axis ranges from 0 to 42 and whose y-axis ranges from -6 to 6. $$y=5cos(3x)$$"
      ],
      "metadata": {
        "id": "5nImg2rAJ_xe"
      },
      "id": "5nImg2rAJ_xe"
    },
    {
      "cell_type": "code",
      "source": [
        "# COMPLETE THIS CODE"
      ],
      "metadata": {
        "id": "Tpq46xX2J_xw"
      },
      "execution_count": null,
      "outputs": [],
      "id": "Tpq46xX2J_xw"
    },
    {
      "cell_type": "markdown",
      "metadata": {
        "id": "upPIf6_Drv8S"
      },
      "source": [
        "<a name=\"p5\"></a>\n",
        "\n",
        "---\n",
        "## **Part 5: The `print` Function [OPTIONAL]**\n",
        "---\n",
        "\n",
        "In this part, we will explore how to use functions with the very useful built-in `print` function."
      ],
      "id": "upPIf6_Drv8S"
    },
    {
      "cell_type": "markdown",
      "source": [
        "#### **Problem #5.1**\n",
        "\n",
        "**Together**, let's run the code below to print the text `\"Hello Machine Learning World!\"`."
      ],
      "metadata": {
        "id": "NRqziKbrPR8P"
      },
      "id": "NRqziKbrPR8P"
    },
    {
      "cell_type": "code",
      "source": [
        "print(\"Hello Machine Learning World!\")"
      ],
      "metadata": {
        "colab": {
          "base_uri": "https://localhost:8080/"
        },
        "id": "Ffht71IHPaXm",
        "outputId": "6ccff93f-fc46-42da-b263-68a2073f074a"
      },
      "execution_count": null,
      "outputs": [
        {
          "output_type": "stream",
          "name": "stdout",
          "text": [
            "Hello Quantum World!\n"
          ]
        }
      ],
      "id": "Ffht71IHPaXm"
    },
    {
      "cell_type": "markdown",
      "source": [
        "#### **Problem #5.2**\n",
        "\n",
        "**Together**, let's print the text `\"Hello Machine Learning World!\"` and `\"Nice to meet you!\"` using two separate print statements."
      ],
      "metadata": {
        "id": "ic87Mb_BPjnd"
      },
      "id": "ic87Mb_BPjnd"
    },
    {
      "cell_type": "code",
      "source": [
        "print(\"# COMPLETE THIS CODE )\n",
        "print(\"# COMPLETE THIS CODE )"
      ],
      "metadata": {
        "id": "lmZncfl_PpwE"
      },
      "execution_count": null,
      "outputs": [],
      "id": "lmZncfl_PpwE"
    },
    {
      "cell_type": "markdown",
      "source": [
        "---\n",
        "\n",
        "#### **Now it's your turn! Try Problems #5.3 - 5.5 on your own.**\n",
        "\n",
        "---"
      ],
      "metadata": {
        "id": "kjAVjQqixuJN"
      },
      "id": "kjAVjQqixuJN"
    },
    {
      "cell_type": "markdown",
      "source": [
        "#### **Problem #5.3**\n",
        "\n",
        "**Independently**, complete the code by printing your age."
      ],
      "metadata": {
        "id": "5iVci0CvP761"
      },
      "id": "5iVci0CvP761"
    },
    {
      "cell_type": "code",
      "source": [
        "print(\"My age is: # COMPLETE THIS CODE"
      ],
      "metadata": {
        "id": "RgSCfnZGP762"
      },
      "execution_count": null,
      "outputs": [],
      "id": "RgSCfnZGP762"
    },
    {
      "cell_type": "markdown",
      "source": [
        "#### **Problem #5.4**\n",
        "\n",
        "**Independently**, complete the code by printing your age on the next line."
      ],
      "metadata": {
        "id": "YtxEjg3VQYu3"
      },
      "id": "YtxEjg3VQYu3"
    },
    {
      "cell_type": "code",
      "source": [
        "print(\"My age is:\")\n",
        "# COMPLETE THIS CODE"
      ],
      "metadata": {
        "id": "3G6zysWQQYvD"
      },
      "execution_count": null,
      "outputs": [],
      "id": "3G6zysWQQYvD"
    },
    {
      "cell_type": "markdown",
      "source": [
        "#### **Problem #5.5**\n",
        "\n",
        "Write code to print your favorite animal."
      ],
      "metadata": {
        "id": "y2y-I1FlQtyG"
      },
      "id": "y2y-I1FlQtyG"
    },
    {
      "cell_type": "code",
      "source": [],
      "metadata": {
        "id": "6Mnuov5fQtyg"
      },
      "execution_count": null,
      "outputs": [],
      "id": "6Mnuov5fQtyg"
    },
    {
      "cell_type": "markdown",
      "source": [
        "#End of notebook\n",
        "---\n",
        "© 2023 The Coding School, All rights reserved"
      ],
      "metadata": {
        "id": "7dzC09dLlEhm"
      },
      "id": "7dzC09dLlEhm"
    }
  ],
  "metadata": {
    "kernelspec": {
      "display_name": "Python 3 (ipykernel)",
      "language": "python",
      "name": "python3"
    },
    "language_info": {
      "codemirror_mode": {
        "name": "ipython",
        "version": 3
      },
      "file_extension": ".py",
      "mimetype": "text/x-python",
      "name": "python",
      "nbconvert_exporter": "python",
      "pygments_lexer": "ipython3",
      "version": "3.8.13"
    },
    "colab": {
      "provenance": [],
      "collapsed_sections": [
        "NRqziKbrPR8P"
      ],
      "toc_visible": true,
      "include_colab_link": true
    }
  },
  "nbformat": 4,
  "nbformat_minor": 5
}