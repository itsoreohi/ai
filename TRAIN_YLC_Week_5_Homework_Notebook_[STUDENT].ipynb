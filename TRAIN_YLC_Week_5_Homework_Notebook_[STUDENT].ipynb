{
  "nbformat": 4,
  "nbformat_minor": 0,
  "metadata": {
    "colab": {
      "provenance": [],
      "toc_visible": true,
      "include_colab_link": true
    },
    "kernelspec": {
      "name": "python3",
      "display_name": "Python 3"
    },
    "language_info": {
      "name": "python"
    }
  },
  "cells": [
    {
      "cell_type": "markdown",
      "metadata": {
        "id": "view-in-github",
        "colab_type": "text"
      },
      "source": [
        "<a href=\"https://colab.research.google.com/github/itsoreohi/ai/blob/main/TRAIN_YLC_Week_5_Homework_Notebook_%5BSTUDENT%5D.ipynb\" target=\"_parent\"><img src=\"https://colab.research.google.com/assets/colab-badge.svg\" alt=\"Open In Colab\"/></a>"
      ]
    },
    {
      "cell_type": "markdown",
      "source": [
        "# **Homework 5: Data Visualizations with matplotlib**\n",
        "---\n",
        "\n",
        "### **Description**\n",
        "In this notebook, you will practice Data Visualization with matplotlib. We will explore different types of visualizations including scatter plots, line plots and bar plots.\n",
        "\n",
        "\n",
        "<br>\n",
        "\n",
        "### **Structure**\n",
        "**Part 1**: [Scatter Plots](#p1)\n",
        "\n",
        "**Part 2**: [Line Plots](#p2)\n",
        "\n",
        "**Part 3**: [Bar Plots](#p3)\n",
        "\n",
        "\n",
        "<br>\n",
        "\n",
        "### **Learning Objectives**\n",
        "By the end of this homework, we will:\n",
        "* Recognize what matplotlib is and why we're using it.\n",
        "* Recognize how to implement scatter, line, and bar plots.\n",
        "\n",
        "\n",
        "<br>\n",
        "\n",
        "### **Resources**\n",
        "* [Python Basics Cheat Sheet](https://docs.google.com/document/d/1bMqW8SKR6xC0-d1f0hb-DnYPJ0CyszjiwPCovAl9TLc/edit?usp=drive_link)\n",
        "\n",
        "* [EDA with pandas Cheat Sheet](https://docs.google.com/document/d/1xnKJsii1AsRH2t22XtrAh7FzSFGqAR0hAmW4oLYM4MI/edit?usp=drive_link)\n",
        "\n",
        "* [Data Visualization with matplotlib Cheat Sheet\n",
        "](https://docs.google.com/document/d/1_3hzeIBPvcT6VC-eK-DDGVsKUvdVSvylNepoSLn2-T4/edit)\n",
        "\n",
        "* [matplotlib documentation](https://matplotlib.org/stable/)\n",
        "\n",
        "<br>\n",
        "\n",
        "**Before starting, run the code below to import all necessary functions and libraries.**\n"
      ],
      "metadata": {
        "id": "mbZXQ3rA3NwL"
      }
    },
    {
      "cell_type": "code",
      "execution_count": null,
      "metadata": {
        "id": "YCin5p2tQ2tw"
      },
      "outputs": [],
      "source": [
        "import matplotlib.pyplot as plt\n",
        "import pandas as pd\n",
        "import numpy as np"
      ]
    },
    {
      "cell_type": "markdown",
      "source": [
        "<a name=\"p1\"></a>\n",
        "\n",
        "---\n",
        "## **Part 1: Scatter Plots**\n",
        "---"
      ],
      "metadata": {
        "id": "vLNdkkSURW0K"
      }
    },
    {
      "cell_type": "markdown",
      "source": [
        "#### **Problem #1.1**\n",
        "\n",
        "Create a scatter plot given the array `x_range` and array `y_range`. Add a title called \"Random Variable Vs. Random Variable\" to the graph. And add x- and y-labels that say \"Random X\" and \"Random Y\", respectively."
      ],
      "metadata": {
        "id": "lhiUHLAnkXG_"
      }
    },
    {
      "cell_type": "code",
      "source": [
        "x_range = np.random.randint(400, size=50)\n",
        "y_range = np.random.randint(400, size=50)\n",
        "\n",
        "# add scatter plot"
      ],
      "metadata": {
        "id": "1ZYDX62SkXG_"
      },
      "execution_count": null,
      "outputs": []
    },
    {
      "cell_type": "markdown",
      "source": [
        "#### **Problem #1.2**\n",
        "\n",
        "Given the following scatter plot, add the following labels and title:\n",
        "* `Title`: \"Distance vs Workout Duration\"\n",
        "* `X-axis`: \"Distance (km)\"\n",
        "* `Y-axis`: \"Workout Duration (min)\""
      ],
      "metadata": {
        "id": "6S8fsll0UQXt"
      }
    },
    {
      "cell_type": "code",
      "source": [
        "workout_df = pd.DataFrame({\"date\": [\"10/17/21\", \"11/04/21\", \"11/18/21\", \"11/23/21\", \"11/28/21\", \"11/29/21\"],\n",
        "           \"distance_km\": [4.3, 1.9, 1.9, 1.9, 2.3, 2.8],\n",
        "           \"duration_min\": [21.58, 9.25, 9.0, 8.93, 11.94, 14.05],\n",
        "           \"delta_last_workout\":[1, 18, 14, 5, 5, 1],\n",
        "           \"day_category\": [0, 1, 1, 0, 0, 0]})\n",
        "\n",
        "# creating scatter\n",
        "x = workout_df['distance_km']\n",
        "y = workout_df['duration_min']\n",
        "\n",
        "#add code\n",
        "\n",
        "plt.scatter(x, y)\n",
        "plt.show()"
      ],
      "metadata": {
        "id": "8_s7i36wH5qM",
        "colab": {
          "base_uri": "https://localhost:8080/",
          "height": 430
        },
        "outputId": "8e64678b-ab29-49cf-a52f-0b0371915fb7"
      },
      "execution_count": null,
      "outputs": [
        {
          "output_type": "display_data",
          "data": {
            "text/plain": [
              "<Figure size 640x480 with 1 Axes>"
            ],
            "image/png": "[encoded data removed]"
          },
          "metadata": {}
        }
      ]
    },
    {
      "cell_type": "markdown",
      "source": [
        "#### **Problem #1.3**\n",
        "\n",
        "Create a scatter plot for the following data. Make the title and labels the following:\n",
        "* `Title`: \"Age vs. height in teenagers\"\n",
        "* `X-axis`: \"Age\"\n",
        "* `Y-axis`: \"Height (in)\""
      ],
      "metadata": {
        "id": "-J73dIIJM1PS"
      }
    },
    {
      "cell_type": "code",
      "source": [
        "age = [14, 14, 13, 18, 17, 20, 17, 16, 19, 19]\n",
        "height = [65, 68, 58, 61, 64, 75, 67, 69, 71, 63] #in inches\n",
        "# Scatter Plot"
      ],
      "metadata": {
        "id": "Z9DTJN9xM1Pa"
      },
      "execution_count": null,
      "outputs": []
    },
    {
      "cell_type": "markdown",
      "source": [
        "<a name=\"p2\"></a>\n",
        "\n",
        "---\n",
        "## **Part 2: Line Plots**\n",
        "---"
      ],
      "metadata": {
        "id": "ARuA9pPBnP_6"
      }
    },
    {
      "cell_type": "markdown",
      "source": [
        "#### **Problem #2.1**\n",
        "\n",
        "Create a line plot for the following data. Add a title called \"Bike Rideshare Activity\" with x-axis and y-axis labels called \"Month\" and \"Bike Trips\", respectively."
      ],
      "metadata": {
        "id": "Luab9N3dM1pO"
      }
    },
    {
      "cell_type": "code",
      "source": [
        "months = [1, 2, 3, 4, 5, 6, 7, 8, 9, 10, 11, 12]\n",
        "trips = [300, 358, 521, 574, 783, 1549, 1776, 1920, 1714, 1234, 703, 438]\n",
        "\n",
        "# Line Plot"
      ],
      "metadata": {
        "id": "AgldHJkyM1pP"
      },
      "execution_count": null,
      "outputs": []
    },
    {
      "cell_type": "markdown",
      "source": [
        "#### **Problem #2.2**\n",
        "\n",
        "Create a line plot for the following data. Add a title called \"Unemployment rate over the years\" with x-axis and y-axis labels called \"Year\" and \"Unemployment\", respectively."
      ],
      "metadata": {
        "id": "fQ0i35FMVMXq"
      }
    },
    {
      "cell_type": "code",
      "source": [
        "Year = [1920,1930,1940,1950,1960,1970,1980,1990,2000,2010]\n",
        "Unemployment_Rate = [9.8,12,8,7.2,6.9,7,6.5,6.2,5.5,6.3]"
      ],
      "metadata": {
        "id": "TEXIY336VQt6"
      },
      "execution_count": null,
      "outputs": []
    },
    {
      "cell_type": "code",
      "source": [
        "# Line Plot\n"
      ],
      "metadata": {
        "id": "rGEQAClLOJ6X"
      },
      "execution_count": null,
      "outputs": []
    },
    {
      "cell_type": "markdown",
      "source": [
        "#### **Problem #2.3**\n",
        "\n",
        "The information below contains data related to how many people have visited Disney Parks globally. Create a line plot to show how the number of visits have changed between 2017 to 2020. Make sure you add in helpful labels and a title.\n",
        "\n",
        "**Note:** Visitors is in millions. For example, in 2017, 150 million people visited Disney Parks globally."
      ],
      "metadata": {
        "id": "JxoW7uzFos1r"
      }
    },
    {
      "cell_type": "code",
      "source": [
        "year = [2017, 2018, 2019, 2020]\n",
        "visitors = [150, 157, 155.991, 43.525]"
      ],
      "metadata": {
        "id": "nVRMZkbCos15"
      },
      "execution_count": null,
      "outputs": []
    },
    {
      "cell_type": "code",
      "source": [
        "# Line Plot\n"
      ],
      "metadata": {
        "id": "aiovjQ71os15"
      },
      "execution_count": null,
      "outputs": []
    },
    {
      "cell_type": "markdown",
      "source": [
        "<a name=\"p3\"></a>\n",
        "\n",
        "---\n",
        "## **Part 3: Bar Plots**\n",
        "---"
      ],
      "metadata": {
        "id": "IA7S4-2MnQI2"
      }
    },
    {
      "cell_type": "markdown",
      "source": [
        "#### **Problem #3.1**\n",
        "\n",
        "Now, plot the same data as above, but using a bar plot. In some cases, it may not be clear which plot will be best until you see your options!"
      ],
      "metadata": {
        "id": "p3honiJxkXHA"
      }
    },
    {
      "cell_type": "code",
      "source": [
        "year = ['2017', '2018', '2019', '2020']\n",
        "visitors = [150, 157, 155.991, 43.525]"
      ],
      "metadata": {
        "id": "knqSeSg0kXHB"
      },
      "execution_count": null,
      "outputs": []
    },
    {
      "cell_type": "code",
      "source": [
        "# Bar Plot\n"
      ],
      "metadata": {
        "id": "441xyVRvkXHB"
      },
      "execution_count": null,
      "outputs": []
    },
    {
      "cell_type": "markdown",
      "source": [
        "#### **Problem #3.2**\n",
        "\n",
        "Create a bar plot for the following data. Add a title called \"Favorite Types of Drinks\" with x-axis and y-axis labels called \"Drink\" and \"Number of People\", respectively."
      ],
      "metadata": {
        "id": "AVjC3efXkXHC"
      }
    },
    {
      "cell_type": "code",
      "source": [
        "drinks = [\"water\", \"tea\", \"coffee\", \"juice\", \"soda\"]\n",
        "people = [12, 5, 17, 15, 9]\n",
        "\n",
        "# Bar Plot"
      ],
      "metadata": {
        "id": "NzbmRrWAkXHC"
      },
      "execution_count": null,
      "outputs": []
    },
    {
      "cell_type": "markdown",
      "source": [
        "#### **Problem #3.3**\n",
        "\n",
        "Create a bar plot using the DataFrame below. Add labels: `Innovative companies` for the title, `Countries` for the x-axis label, and `Number of Companies` for the y-axis label."
      ],
      "metadata": {
        "id": "9pyY5MuXUX1R"
      }
    },
    {
      "cell_type": "code",
      "source": [
        "companies_df = pd.DataFrame({\"countries\": [\"USA\", \"South Korea\", \"China\", \"Japan\", \"Germany\", \"Netherlands\", \"India\", \"France\", \"London\", \"Switzerland\", \"Sweden\", \"Italy\"],\n",
        "             \"companies\": [25, 2, 3, 3, 6, 1, 3, 1, 1, 2, 2, 1]})\n",
        "\n",
        "companies_df.head()\n",
        "\n",
        "# add code"
      ],
      "metadata": {
        "id": "i0sk0NKfUYYo"
      },
      "execution_count": null,
      "outputs": []
    },
    {
      "cell_type": "markdown",
      "source": [
        "---\n",
        "#End of Notebook\n",
        "\n",
        "© 2023 The Coding School, All rights reserved"
      ],
      "metadata": {
        "id": "_HyK3MU03rBY"
      }
    }
  ]
}